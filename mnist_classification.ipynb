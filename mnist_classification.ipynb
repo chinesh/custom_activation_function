{
 "cells": [
  {
   "cell_type": "code",
   "execution_count": 1,
   "metadata": {},
   "outputs": [],
   "source": [
    "from __future__ import absolute_import, division, print_function\n",
    "import sys\n",
    "import tensorflow as tf\n",
    "import numpy as np\n",
    "from tensorflow.python.framework import ops\n",
    "\n",
    "tf.logging.set_verbosity(tf.logging.INFO)"
   ]
  },
  {
   "cell_type": "code",
   "execution_count": 2,
   "metadata": {},
   "outputs": [],
   "source": [
    "def leaky_relu_6(x):\n",
    "\n",
    "    if x >=0.0 and x <= 6.0:\n",
    "        return x*1.0\n",
    "    elif x > 6.0:\n",
    "        return 6.0\n",
    "    else:\n",
    "        return 0.2 * x"
   ]
  },
  {
   "cell_type": "code",
   "execution_count": 3,
   "metadata": {},
   "outputs": [],
   "source": [
    "np_leaky_relu_6= np.vectorize(leaky_relu_6)"
   ]
  },
  {
   "cell_type": "code",
   "execution_count": 4,
   "metadata": {},
   "outputs": [],
   "source": [
    "def d_leaky_relu_6(x):\n",
    "    if x >=0.0 and x < 6.0:\n",
    "        return 1.0\n",
    "    elif x > 6.0:\n",
    "        return 0.0\n",
    "    else:\n",
    "        return 0.2\n",
    "np_d_leaky_relu_6 = np.vectorize(d_leaky_relu_6)"
   ]
  },
  {
   "cell_type": "code",
   "execution_count": 5,
   "metadata": {},
   "outputs": [],
   "source": [
    "def py_func(func, inp, Tout, stateful=True, name=None, grad=None):\n",
    "\n",
    "    # Need to generate a unique name to avoid duplicates:\n",
    "    rnd_name = 'PyFuncGrad' + str(np.random.randint(0, 1E+2))\n",
    "\n",
    "    tf.RegisterGradient(rnd_name)(grad)\n",
    "    g = tf.get_default_graph()\n",
    "    with g.gradient_override_map({\"PyFunc\": rnd_name}):\n",
    "        return tf.py_func(func, inp, Tout, stateful=stateful, name=name)"
   ]
  },
  {
   "cell_type": "code",
   "execution_count": 6,
   "metadata": {},
   "outputs": [],
   "source": [
    "def relu_grad(op, grad):\n",
    "    x = op.inputs[0]\n",
    "\n",
    "    n_gr = tf_d_leaky_relu_6(x)    #defining the gradient.\n",
    "    return grad * n_gr  "
   ]
  },
  {
   "cell_type": "code",
   "execution_count": 7,
   "metadata": {},
   "outputs": [],
   "source": [
    "\n",
    "    \n",
    "np_leaky_relu_6_32 = lambda x: np_leaky_relu_6(x).astype(np.float32)\n",
    "\n",
    "def tf_leaky_relu_6(x,name=None):\n",
    "    with tf.name_scope(name, \"leaky_relu_6\", [x]) as name:\n",
    "\n",
    "        y = py_func(np_leaky_relu_6_32,   #forward pass function\n",
    "                        [x],\n",
    "                        [tf.float32],\n",
    "                        name=name,\n",
    "                         grad= relu_grad) #the function that overrides gradient\n",
    "        y[0].set_shape(x.get_shape())     #when using with the code, it is used to specify the rank of the input.\n",
    "        return y[0]"
   ]
  },
  {
   "cell_type": "code",
   "execution_count": 8,
   "metadata": {},
   "outputs": [],
   "source": [
    "np_d_leaky_relu_6_32 = lambda x: np_d_leaky_relu_6(x).astype(np.float32)\n",
    "\n",
    "def tf_d_leaky_relu_6(x,name=None):\n",
    "    with tf.name_scope(name, \"d_leaky_relu_6\", [x]) as name:\n",
    "        y = tf.py_func(np_d_leaky_relu_6_32,\n",
    "                        [x],\n",
    "                        [tf.float32],\n",
    "                        name=name,\n",
    "                        stateful=False)\n",
    "        return y[0]"
   ]
  },
  {
   "cell_type": "code",
   "execution_count": 9,
   "metadata": {},
   "outputs": [
    {
     "data": {
      "text/plain": [
       "'with tf.Session() as sess:\\n\\n    x = tf.constant([[0.2,0.7],[1.2,-8.7]])\\n    y = tf_leaky_relu_6(x)\\n    tf.initialize_all_variables().run()\\n\\n    print(x.eval(), y.eval(), tf.gradients(y, [x])[0].eval())'"
      ]
     },
     "execution_count": 9,
     "metadata": {},
     "output_type": "execute_result"
    }
   ],
   "source": [
    "\"\"\"with tf.Session() as sess:\n",
    "\n",
    "    x = tf.constant([[0.2,0.7],[1.2,-8.7]])\n",
    "    y = tf_leaky_relu_6(x)\n",
    "    tf.initialize_all_variables().run()\n",
    "\n",
    "    print(x.eval(), y.eval(), tf.gradients(y, [x])[0].eval())\"\"\""
   ]
  },
  {
   "cell_type": "code",
   "execution_count": 10,
   "metadata": {},
   "outputs": [],
   "source": [
    "def cnn_model_fn(features, labels, mode):\n",
    "  \"\"\"Model function for CNN.\"\"\"\n",
    "  # Input Layer\n",
    "  input_layer = tf.reshape(features[\"x\"], [-1, 28, 28, 1])\n",
    "  #conv1_act = tf.placeholder(tf.float32, [4,])\n",
    "\n",
    "  # Convolutional Layer #1\n",
    "  conv1 = tf.layers.conv2d(\n",
    "      inputs=input_layer,\n",
    "      filters=32,\n",
    "      kernel_size=[5, 5],\n",
    "      padding=\"same\",\n",
    "      activation=tf.nn.relu)\n",
    "\n",
    "  #conv1_act = tf_leaky_relu_6(conv1)\n",
    "\n",
    "  pool1 = tf.layers.max_pooling2d(inputs=conv1, pool_size=[2, 2], strides=2)\n",
    "\n",
    "  # Convolutional Layer #2 and Pooling Layer #2\n",
    "  conv2 = tf.layers.conv2d(\n",
    "      inputs=pool1,\n",
    "      filters=64,\n",
    "      kernel_size=[5, 5],\n",
    "      padding=\"same\") #to try other activation function replcae relu6 by leaky_relu or relu\n",
    "    \n",
    "  conv2_act = tf_leaky_relu_6(conv2)\n",
    "  \n",
    "  pool2 = tf.layers.max_pooling2d(inputs=conv2_act, pool_size=[2, 2], strides=2)\n",
    "\n",
    "  # Dense Layer\n",
    "  pool2_flat = tf.reshape(pool2, [-1, 7 * 7 * 64])\n",
    "  dense = tf.layers.dense(inputs=pool2_flat, units=1024, activation=tf.nn.relu6) #to try other activation function replcae relu6 by leaky_relu or relu\n",
    "  dropout = tf.layers.dropout(\n",
    "      inputs=dense, rate=0.4, training=mode == tf.estimator.ModeKeys.TRAIN)\n",
    "\n",
    "  # Logits Layer\n",
    "  logits = tf.layers.dense(inputs=dropout, units=10)\n",
    "\n",
    "  predictions = {\n",
    "      # Generate predictions (for PREDICT and EVAL mode)\n",
    "      \"classes\": tf.argmax(input=logits, axis=1),\n",
    "      # Add `softmax_tensor` to the graph. It is used for PREDICT and by the\n",
    "      # `logging_hook`.\n",
    "      \"probabilities\": tf.nn.softmax(logits, name=\"softmax_tensor\")\n",
    "  }\n",
    "\n",
    "  if mode == tf.estimator.ModeKeys.PREDICT:\n",
    "    return tf.estimator.EstimatorSpec(mode=mode, predictions=predictions)\n",
    "\n",
    "  # Calculate Loss (for both TRAIN and EVAL modes)\n",
    "  loss = tf.losses.sparse_softmax_cross_entropy(labels=labels, logits=logits)\n",
    "\n",
    "  # Configure the Training Op (for TRAIN mode)\n",
    "  if mode == tf.estimator.ModeKeys.TRAIN:\n",
    "    optimizer = tf.train.GradientDescentOptimizer(learning_rate=0.001)\n",
    "    train_op = optimizer.minimize(\n",
    "        loss=loss,\n",
    "        global_step=tf.train.get_global_step())\n",
    "    return tf.estimator.EstimatorSpec(mode=mode, loss=loss, train_op=train_op)\n",
    "\n",
    "  # Add evaluation metrics (for EVAL mode)\n",
    "  eval_metric_ops = {\n",
    "      \"accuracy\": tf.metrics.accuracy(\n",
    "          labels=labels, predictions=predictions[\"classes\"])\n",
    "  }\n",
    "  return tf.estimator.EstimatorSpec(\n",
    "      mode=mode, loss=loss, eval_metric_ops=eval_metric_ops)"
   ]
  },
  {
   "cell_type": "code",
   "execution_count": 11,
   "metadata": {},
   "outputs": [],
   "source": [
    "# Load training and eval data\n",
    "((train_data, train_labels),\n",
    " (eval_data, eval_labels)) = tf.keras.datasets.mnist.load_data()\n",
    "\n",
    "train_data = train_data/np.float32(255)\n",
    "train_labels = train_labels.astype(np.int32)  # not required\n",
    "\n",
    "eval_data = eval_data/np.float32(255)\n",
    "eval_labels = eval_labels.astype(np.int32)  # not required"
   ]
  },
  {
   "cell_type": "code",
   "execution_count": 12,
   "metadata": {},
   "outputs": [
    {
     "name": "stdout",
     "output_type": "stream",
     "text": [
      "INFO:tensorflow:Using default config.\n",
      "WARNING:tensorflow:Using temporary folder as model directory: /tmp/tmpna2demsl\n",
      "INFO:tensorflow:Using config: {'_num_worker_replicas': 1, '_model_dir': '/tmp/tmpna2demsl', '_keep_checkpoint_max': 5, '_log_step_count_steps': 100, '_num_ps_replicas': 0, '_is_chief': True, '_service': None, '_session_config': None, '_save_checkpoints_steps': None, '_task_type': 'worker', '_cluster_spec': <tensorflow.python.training.server_lib.ClusterSpec object at 0x7f1db398c4a8>, '_keep_checkpoint_every_n_hours': 10000, '_master': '', '_tf_random_seed': None, '_save_checkpoints_secs': 600, '_task_id': 0, '_save_summary_steps': 100}\n"
     ]
    }
   ],
   "source": [
    "# Create the Estimator# Creat \n",
    "mnist_classifier = tf.estimator.Estimator(\n",
    "    model_fn=cnn_model_fn)"
   ]
  },
  {
   "cell_type": "code",
   "execution_count": 13,
   "metadata": {},
   "outputs": [],
   "source": [
    "# Set up logging for predictions\n",
    "tensors_to_log = {\"probabilities\": \"softmax_tensor\"}\n",
    "\n",
    "logging_hook = tf.train.LoggingTensorHook(\n",
    "    tensors=tensors_to_log, every_n_iter=50)"
   ]
  },
  {
   "cell_type": "code",
   "execution_count": 14,
   "metadata": {},
   "outputs": [
    {
     "name": "stdout",
     "output_type": "stream",
     "text": [
      "INFO:tensorflow:Create CheckpointSaverHook.\n",
      "INFO:tensorflow:Saving checkpoints for 1 into /tmp/tmpna2demsl/model.ckpt.\n",
      "INFO:tensorflow:step = 1, loss = 2.3122797\n",
      "INFO:tensorflow:Loss for final step: 2.3122797.\n"
     ]
    },
    {
     "data": {
      "text/plain": [
       "<tensorflow.python.estimator.estimator.Estimator at 0x7f1db398c710>"
      ]
     },
     "execution_count": 14,
     "metadata": {},
     "output_type": "execute_result"
    }
   ],
   "source": [
    "# Train the model\n",
    "train_input_fn = tf.estimator.inputs.numpy_input_fn(\n",
    "    x={\"x\": train_data},\n",
    "    y=train_labels,\n",
    "    batch_size=100,\n",
    "    num_epochs=None,\n",
    "    shuffle=True)\n",
    "# train one step and display the probabilties\n",
    "#mnist_classifier.train(input_fn=train_input_fn, steps=1,hooks=[logging_hook])\n",
    "\n",
    "\n",
    "mnist_classifier.train(input_fn=train_input_fn, steps=1,)"
   ]
  },
  {
   "cell_type": "code",
   "execution_count": 15,
   "metadata": {},
   "outputs": [
    {
     "name": "stdout",
     "output_type": "stream",
     "text": [
      "INFO:tensorflow:Create CheckpointSaverHook.\n",
      "INFO:tensorflow:Restoring parameters from /tmp/tmpna2demsl/model.ckpt-1\n",
      "INFO:tensorflow:Saving checkpoints for 2 into /tmp/tmpna2demsl/model.ckpt.\n",
      "INFO:tensorflow:step = 2, loss = 2.3002834\n",
      "INFO:tensorflow:global_step/sec: 1.17395\n",
      "INFO:tensorflow:step = 102, loss = 2.2808826 (85.183 sec)\n",
      "INFO:tensorflow:global_step/sec: 1.23779\n",
      "INFO:tensorflow:step = 202, loss = 2.277623 (80.791 sec)\n",
      "INFO:tensorflow:global_step/sec: 1.15737\n",
      "INFO:tensorflow:step = 302, loss = 2.260329 (86.404 sec)\n",
      "INFO:tensorflow:global_step/sec: 1.18216\n",
      "INFO:tensorflow:step = 402, loss = 2.2373593 (84.589 sec)\n",
      "INFO:tensorflow:global_step/sec: 1.05287\n",
      "INFO:tensorflow:step = 502, loss = 2.2122068 (94.978 sec)\n",
      "INFO:tensorflow:global_step/sec: 1.20266\n",
      "INFO:tensorflow:step = 602, loss = 2.19243 (83.149 sec)\n",
      "INFO:tensorflow:global_step/sec: 1.23642\n",
      "INFO:tensorflow:step = 702, loss = 2.1151078 (80.878 sec)\n",
      "INFO:tensorflow:Saving checkpoints for 707 into /tmp/tmpna2demsl/model.ckpt.\n",
      "INFO:tensorflow:global_step/sec: 1.11793\n",
      "INFO:tensorflow:step = 802, loss = 2.1126509 (89.452 sec)\n",
      "INFO:tensorflow:global_step/sec: 1.12416\n",
      "INFO:tensorflow:step = 902, loss = 2.0411308 (88.954 sec)\n",
      "INFO:tensorflow:Saving checkpoints for 1001 into /tmp/tmpna2demsl/model.ckpt.\n",
      "INFO:tensorflow:Loss for final step: 1.9221054.\n"
     ]
    },
    {
     "data": {
      "text/plain": [
       "<tensorflow.python.estimator.estimator.Estimator at 0x7f1db398c710>"
      ]
     },
     "execution_count": 15,
     "metadata": {},
     "output_type": "execute_result"
    }
   ],
   "source": [
    "mnist_classifier.train(input_fn=train_input_fn, steps=1000)\n",
    "#Tensor(\"Shape:0\", shape=(4,), dtype=int32)\n"
   ]
  },
  {
   "cell_type": "code",
   "execution_count": 16,
   "metadata": {},
   "outputs": [
    {
     "name": "stdout",
     "output_type": "stream",
     "text": [
      "INFO:tensorflow:Starting evaluation at 2019-07-15-15:44:59\n",
      "INFO:tensorflow:Restoring parameters from /tmp/tmpna2demsl/model.ckpt-1001\n",
      "INFO:tensorflow:Finished evaluation at 2019-07-15-15:45:43\n",
      "INFO:tensorflow:Saving dict for global step 1001: accuracy = 0.6918, global_step = 1001, loss = 1.9385787\n",
      "{'accuracy': 0.6918, 'global_step': 1001, 'loss': 1.9385787}\n"
     ]
    }
   ],
   "source": [
    "eval_input_fn = tf.estimator.inputs.numpy_input_fn(\n",
    "    x={\"x\": eval_data},\n",
    "    y=eval_labels,\n",
    "    num_epochs=1,\n",
    "    shuffle=False)\n",
    "\n",
    "eval_results = mnist_classifier.evaluate(input_fn=eval_input_fn)\n",
    "print(eval_results)"
   ]
  },
  {
   "cell_type": "code",
   "execution_count": 17,
   "metadata": {},
   "outputs": [
    {
     "name": "stdout",
     "output_type": "stream",
     "text": [
      "-100.0\n",
      "-99.0\n",
      "-98.0\n",
      "-97.0\n",
      "-96.0\n",
      "-95.0\n",
      "-94.0\n",
      "-93.0\n",
      "-92.0\n",
      "-91.0\n",
      "-90.0\n",
      "-89.0\n",
      "-88.0\n",
      "-87.0\n",
      "-86.0\n",
      "-85.0\n",
      "-84.0\n",
      "-83.0\n",
      "-82.0\n",
      "-81.0\n",
      "-80.0\n",
      "-79.0\n",
      "-78.0\n",
      "-77.0\n",
      "-76.0\n",
      "-75.0\n",
      "-74.0\n",
      "-73.0\n",
      "-72.0\n",
      "-71.0\n",
      "-70.0\n",
      "-69.0\n",
      "-68.0\n",
      "-67.0\n",
      "-66.0\n",
      "-65.0\n",
      "-64.0\n",
      "-63.0\n",
      "-62.0\n",
      "-61.0\n",
      "-60.0\n",
      "-59.0\n",
      "-58.0\n",
      "-57.0\n",
      "-56.0\n",
      "-55.0\n",
      "-54.0\n",
      "-53.0\n",
      "-52.0\n",
      "-51.0\n"
     ]
    }
   ],
   "source": [
    "ans = []\n",
    "x = []\n",
    "\n",
    "for i in np.arange(-100, 100, 1.0):\n",
    "    ans.append(leaky_relu_6(i))\n",
    "    x.append(i)\n",
    "    \n"
   ]
  },
  {
   "cell_type": "code",
   "execution_count": null,
   "metadata": {},
   "outputs": [],
   "source": [
    "import matplotlib.pyplot as plt \n",
    "  \n",
    "\n",
    "  \n",
    "# plotting the points  \n",
    "plt.plot(x, ans) \n",
    "  \n",
    "# naming the x axis \n",
    "plt.xlabel('x - axis') \n",
    "# naming the y axis \n",
    "plt.ylabel('y - axis') \n",
    "  \n",
    "# giving a title to my graph \n",
    "plt.title('Leaky Relu 6') \n",
    "  \n",
    "# function to show the plot \n",
    "plt.show() "
   ]
  },
  {
   "cell_type": "code",
   "execution_count": null,
   "metadata": {},
   "outputs": [],
   "source": [
    "plt.show() "
   ]
  },
  {
   "cell_type": "code",
   "execution_count": null,
   "metadata": {},
   "outputs": [],
   "source": [
    "aview.flat = 0\n",
    "\n",
    "plt.imshow(aview)"
   ]
  },
  {
   "cell_type": "code",
   "execution_count": null,
   "metadata": {},
   "outputs": [],
   "source": [
    "ans"
   ]
  },
  {
   "cell_type": "code",
   "execution_count": null,
   "metadata": {},
   "outputs": [],
   "source": [
    "x"
   ]
  },
  {
   "cell_type": "code",
   "execution_count": null,
   "metadata": {},
   "outputs": [],
   "source": []
  }
 ],
 "metadata": {
  "kernelspec": {
   "display_name": "Python 3",
   "language": "python",
   "name": "python3"
  },
  "language_info": {
   "codemirror_mode": {
    "name": "ipython",
    "version": 3
   },
   "file_extension": ".py",
   "mimetype": "text/x-python",
   "name": "python",
   "nbconvert_exporter": "python",
   "pygments_lexer": "ipython3",
   "version": "3.5.2"
  }
 },
 "nbformat": 4,
 "nbformat_minor": 2
}
